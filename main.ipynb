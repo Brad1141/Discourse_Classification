{
 "cells": [
  {
   "cell_type": "code",
   "execution_count": 1,
   "metadata": {},
   "outputs": [],
   "source": [
    "import numpy as np\n",
    "import pandas as pd\n",
    "import os\n",
    "import tensorflow as tf\n",
    "import re\n",
    "from datasets import load_dataset\n",
    "from datasets import Dataset\n",
    "from tqdm.notebook import tqdm\n",
    "from transformers import AutoTokenizer\n",
    "from transformers import DataCollatorForTokenClassification\n",
    "from datasets import load_metric"
   ]
  },
  {
   "cell_type": "code",
   "execution_count": 2,
   "metadata": {},
   "outputs": [
    {
     "name": "stderr",
     "output_type": "stream",
     "text": [
      "Reusing dataset conll2003 (C:\\Users\\Brad\\.cache\\huggingface\\datasets\\conll2003\\conll2003\\1.0.0\\40e7cb6bcc374f7c349c83acd1e9352a4f09474eb691f64f364ee62eb65d0ca6)\n",
      "100%|██████████| 3/3 [00:00<00:00, 250.74it/s]\n"
     ]
    }
   ],
   "source": [
    "raw_datasets  = load_dataset(\"conll2003\")\n",
    "model_checkpoint = \"bert-base-cased\"\n",
    "tokenizer = AutoTokenizer.from_pretrained(model_checkpoint)\n",
    "df_errorIds = pd.read_csv(\"Error_Ids.csv\")\n",
    "df_errorIds = df_errorIds.drop(['Unnamed: 0'], axis = 1)\n",
    "metric = load_metric(\"seqeval\")\n",
    "\n",
    "tokenDict = {\n",
    "    \"Lead\" : 0,\n",
    "    \"Position\" : 1,\n",
    "    \"Evidence\" : 2,\n",
    "    \"Claim\" : 3,\n",
    "    \"Concluding Statement\" : 4,\n",
    "    \"Counterclaim\" : 5,\n",
    "    \"Rebuttal\": 6\n",
    "}"
   ]
  },
  {
   "cell_type": "code",
   "execution_count": 3,
   "metadata": {},
   "outputs": [],
   "source": [
    "# helper functions\n",
    "\n",
    "def fileToArray(file_path):\n",
    "    # turn text into array of words\n",
    "    text_ds = tf.data.TextLineDataset(file_path).filter(lambda x: tf.cast(tf.strings.length(x), bool))\n",
    "    text_ds = text_ds.enumerate()\n",
    "    docTxt = []\n",
    "    for i in text_ds.as_numpy_iterator():\n",
    "        line = i[1].decode().split()\n",
    "        for l in line:\n",
    "            docTxt.append(l)\n",
    "    \n",
    "    docTxt = ' '.join(docTxt)\n",
    "    return docTxt\n",
    "\n",
    "def calc_word_indices(full_text, discourse_start, discourse_end):\n",
    "    start_index = len(full_text[:discourse_start].split())\n",
    "    token_len = len(full_text[discourse_start:discourse_end].split())\n",
    "    output = list(range(start_index, start_index + token_len))\n",
    "    if output[-1] >= len(full_text.split()):\n",
    "        output = list(range(start_index, start_index + token_len-1))\n",
    "    return output\n",
    "\n",
    "def align_labels_with_tokens(labels, word_ids):\n",
    "    new_labels = []\n",
    "    current_word = None\n",
    "    for word_id in word_ids:\n",
    "        if word_id != current_word:\n",
    "            # Start of a new word!\n",
    "            current_word = word_id\n",
    "            label = -100 if word_id is None else labels[word_id]\n",
    "            new_labels.append(label)\n",
    "        elif word_id is None:\n",
    "            # Special token\n",
    "            new_labels.append(-100)\n",
    "        else:\n",
    "            # Same word as previous token\n",
    "            label = labels[word_id]\n",
    "            # If the label is B-XXX we change it to I-XXX\n",
    "            if label % 2 == 1:\n",
    "                label += 1\n",
    "            new_labels.append(label)\n",
    "\n",
    "    return new_labels\n",
    "\n",
    "def tokenize_and_align_labels(examples):\n",
    "    tokenized_inputs = tokenizer(\n",
    "        examples[\"tokens\"], truncation=True, is_split_into_words=True\n",
    "    )\n",
    "\n",
    "    all_labels = examples[\"ner_tags\"]\n",
    "    new_labels = []\n",
    "    for i, labels in enumerate(all_labels):\n",
    "        word_ids = tokenized_inputs.word_ids(i)\n",
    "        new_labels.append(align_labels_with_tokens(labels, word_ids))\n",
    "\n",
    "    tokenized_inputs[\"labels\"] = new_labels\n",
    "    return tokenized_inputs\n",
    "\n",
    "def dfTags_to_ints(df):\n",
    "    for index, row in df.iterrows():\n",
    "        intArray = []\n",
    "        tokenArray = []\n",
    "        for i in row[2]:\n",
    "            intArray.append(int(i))\n",
    "        df.at[index, \"ner_tags\"] = intArray.copy()\n",
    "        # for j in row[1]:\n",
    "        #     if j != '.' and j != ',':\n",
    "        #         tokenArray.append(j)\n",
    "        # df.at[index, \"tokens\"] = tokenArray.copy()\n",
    "    return df\n",
    "\n",
    "def csv_to_df(fileName):\n",
    "    return None"
   ]
  },
  {
   "cell_type": "code",
   "execution_count": 4,
   "metadata": {},
   "outputs": [],
   "source": [
    "#takes in a csv file name and returns a tokenized dataset\n",
    "#NEEDS to be updated in occurance with the createTokenTrainingSet() function\n",
    "def createTokenDataset(fileName):\n",
    "\n",
    "    #maybe create a helper function???\n",
    "    df = csv_to_df(fileName)\n",
    "    essayNames = df[\"id\"].unique()\n",
    "    \n",
    "    data = {\n",
    "        \"id\": [],\n",
    "        \"tokens\": [],\n",
    "        \"ner_tags\": []\n",
    "    }\n",
    "\n",
    "    token_df = pd.DataFrame(data)\n",
    "    for fileName in tqdm(essayNames):\n",
    "        df_file = df[df.id.str.contains(fileName,case=False)]\n",
    "        df_file = df_file.reset_index()\n",
    "        labels = []\n",
    "        num_labels = []\n",
    "        fullText = []\n",
    "        for i in range(len(df_file.index)):\n",
    "            df_string = df_file[\"predictionstring\"][i]\n",
    "            stringArray = df_string.split()\n",
    "            df_textString = df_file[\"discourse_text\"][i].split()\n",
    "            for df in df_textString:\n",
    "                if df != '.' and df != ',':\n",
    "                    fullText.append(df)\n",
    "            for s in stringArray:\n",
    "                labels.append(df_file[\"discourse_type\"][i])\n",
    "                num_labels.append(tokenDict[str(df_file[\"discourse_type\"][i])])\n",
    "\n",
    "        token_df.loc[len(token_df.index)] = [fileName, fullText, num_labels]\n",
    "    \n",
    "    #find a better way to do this\n",
    "    token_df['tokens'] = token_df['tokens'].apply(lambda a: ' '.join(map(str, a)))\n",
    "    token_df['ner_tags'] = token_df['ner_tags'].apply(lambda a: ' '.join(map(str, a)))\n",
    "    token_df['tokens'] = token_df['tokens'].apply(lambda a: a.split())\n",
    "    token_df['ner_tags'] = token_df['ner_tags'].apply(lambda a: a.split())\n",
    "\n",
    "    tokenDataset = Dataset.from_pandas(token_df)\n",
    "\n",
    "    tokenized_datasets = tokenDataset.map(\n",
    "        tokenize_and_align_labels,\n",
    "        batched=True,\n",
    "    )\n",
    "    return tokenized_datasets\n",
    "\n",
    "def createTokenTrainingSet(fileName):\n",
    "    errorList = list(df_errorIds[\"id\"])\n",
    "    df = pd.read_csv(fileName)\n",
    "\n",
    "    df['tokens'] = df['tokens'].apply(lambda a: a.split())\n",
    "    df['ner_tags'] = df['ner_tags'].apply(lambda a: a.split())\n",
    "    df = df.drop(['Unnamed: 0'], axis = 1)\n",
    "\n",
    "    errorList_idx = list(map(lambda e: df.loc[df[\"id\"] == e].index[0], errorList))\n",
    "    df = df.drop(errorList_idx, 0)\n",
    "    df = dfTags_to_ints(df)\n",
    "\n",
    "    newDataset = Dataset.from_pandas(df)\n",
    "\n",
    "    tokenized_datasets = newDataset.map(\n",
    "        tokenize_and_align_labels,\n",
    "        batched=True,\n",
    "        remove_columns=newDataset.column_names\n",
    "    )\n",
    "    return tokenized_datasets\n",
    "\n",
    "    "
   ]
  },
  {
   "cell_type": "code",
   "execution_count": 5,
   "metadata": {},
   "outputs": [
    {
     "name": "stderr",
     "output_type": "stream",
     "text": [
      "100%|██████████| 16/16 [00:42<00:00,  2.66s/ba]\n"
     ]
    }
   ],
   "source": [
    "tokenTrain = createTokenTrainingSet(\"trainHugging4.csv\")"
   ]
  },
  {
   "cell_type": "code",
   "execution_count": 6,
   "metadata": {},
   "outputs": [
    {
     "data": {
      "text/plain": [
       "DatasetDict({\n",
       "    train: Dataset({\n",
       "        features: ['attention_mask', 'input_ids', 'labels', 'token_type_ids'],\n",
       "        num_rows: 13974\n",
       "    })\n",
       "    test: Dataset({\n",
       "        features: ['attention_mask', 'input_ids', 'labels', 'token_type_ids'],\n",
       "        num_rows: 1553\n",
       "    })\n",
       "})"
      ]
     },
     "execution_count": 6,
     "metadata": {},
     "output_type": "execute_result"
    }
   ],
   "source": [
    "tokenTrain = tokenTrain.train_test_split(train_size=0.9, test_size=0.1)\n",
    "tokenTrain"
   ]
  },
  {
   "cell_type": "code",
   "execution_count": 7,
   "metadata": {},
   "outputs": [],
   "source": [
    "data_collator = DataCollatorForTokenClassification(tokenizer=tokenizer)"
   ]
  },
  {
   "cell_type": "code",
   "execution_count": 8,
   "metadata": {},
   "outputs": [],
   "source": [
    "label_names = [\"Lead\", \"Position\", \"Evidence\", \"Claim\", \"Concluding Statement\", \"Counterclaim\", \"Rebuttal\"]"
   ]
  },
  {
   "cell_type": "code",
   "execution_count": 9,
   "metadata": {},
   "outputs": [],
   "source": [
    "def compute_metrics(eval_preds):\n",
    "    logits, labels = eval_preds\n",
    "    predictions = np.argmax(logits, axis=-1)\n",
    "\n",
    "    # Remove ignored index (special tokens) and convert to labels\n",
    "    true_labels = [[label_names[l] for l in label if l != -100] for label in labels]\n",
    "    true_predictions = [\n",
    "        [label_names[p] for (p, l) in zip(prediction, label) if l != -100]\n",
    "        for prediction, label in zip(predictions, labels)\n",
    "    ]\n",
    "    all_metrics = metric.compute(predictions=true_predictions, references=true_labels)\n",
    "    return {\n",
    "        \"precision\": all_metrics[\"overall_precision\"],\n",
    "        \"recall\": all_metrics[\"overall_recall\"],\n",
    "        \"f1\": all_metrics[\"overall_f1\"],\n",
    "        \"accuracy\": all_metrics[\"overall_accuracy\"],\n",
    "    }"
   ]
  },
  {
   "cell_type": "code",
   "execution_count": 10,
   "metadata": {},
   "outputs": [],
   "source": [
    "id2label = {str(i): label for i, label in enumerate(label_names)}\n",
    "label2id = {v: k for k, v in id2label.items()}"
   ]
  },
  {
   "cell_type": "code",
   "execution_count": 11,
   "metadata": {},
   "outputs": [
    {
     "name": "stderr",
     "output_type": "stream",
     "text": [
      "Some weights of the model checkpoint at bert-base-cased were not used when initializing BertForTokenClassification: ['cls.predictions.transform.dense.bias', 'cls.predictions.bias', 'cls.predictions.transform.dense.weight', 'cls.predictions.decoder.weight', 'cls.seq_relationship.bias', 'cls.seq_relationship.weight', 'cls.predictions.transform.LayerNorm.bias', 'cls.predictions.transform.LayerNorm.weight']\n",
      "- This IS expected if you are initializing BertForTokenClassification from the checkpoint of a model trained on another task or with another architecture (e.g. initializing a BertForSequenceClassification model from a BertForPreTraining model).\n",
      "- This IS NOT expected if you are initializing BertForTokenClassification from the checkpoint of a model that you expect to be exactly identical (initializing a BertForSequenceClassification model from a BertForSequenceClassification model).\n",
      "Some weights of BertForTokenClassification were not initialized from the model checkpoint at bert-base-cased and are newly initialized: ['classifier.weight', 'classifier.bias']\n",
      "You should probably TRAIN this model on a down-stream task to be able to use it for predictions and inference.\n"
     ]
    }
   ],
   "source": [
    "from transformers import AutoModelForTokenClassification\n",
    "\n",
    "model = AutoModelForTokenClassification.from_pretrained(\n",
    "    model_checkpoint,\n",
    "    id2label=id2label,\n",
    "    label2id=label2id,\n",
    ")"
   ]
  },
  {
   "cell_type": "code",
   "execution_count": 12,
   "metadata": {},
   "outputs": [
    {
     "data": {
      "text/plain": [
       "7"
      ]
     },
     "execution_count": 12,
     "metadata": {},
     "output_type": "execute_result"
    }
   ],
   "source": [
    "model.config.num_labels"
   ]
  },
  {
   "cell_type": "code",
   "execution_count": 13,
   "metadata": {},
   "outputs": [],
   "source": [
    "from transformers import TrainingArguments\n",
    "\n",
    "args = TrainingArguments(\n",
    "    \"bert-finetuned-ner\",\n",
    "    evaluation_strategy=\"epoch\",\n",
    "    save_strategy=\"epoch\",\n",
    "    learning_rate=2e-5,\n",
    "    num_train_epochs=3,\n",
    "    weight_decay=0.01,\n",
    "    push_to_hub=True,\n",
    ")"
   ]
  },
  {
   "cell_type": "code",
   "execution_count": 81,
   "metadata": {},
   "outputs": [
    {
     "data": {
      "application/vnd.jupyter.widget-view+json": {
       "model_id": "5fa194a47ac7497bb79c093a9ce23642",
       "version_major": 2,
       "version_minor": 0
      },
      "text/plain": [
       "VBox(children=(HTML(value='<center>\\n<img src=https://huggingface.co/front/assets/huggingface_logo-noborder.sv…"
      ]
     },
     "metadata": {},
     "output_type": "display_data"
    }
   ],
   "source": [
    "from huggingface_hub import notebook_login\n",
    "\n",
    "notebook_login()"
   ]
  },
  {
   "cell_type": "code",
   "execution_count": null,
   "metadata": {},
   "outputs": [],
   "source": [
    "from transformers import Trainer\n",
    "\n",
    "trainer = Trainer(\n",
    "    model=model,\n",
    "    args=args,\n",
    "    train_dataset=tokenTrain[\"train\"],\n",
    "    eval_dataset=tokenTrain[\"test\"],\n",
    "    data_collator=data_collator,\n",
    "    compute_metrics=compute_metrics,\n",
    "    tokenizer=tokenizer,\n",
    ")\n",
    "trainer.train()"
   ]
  },
  {
   "cell_type": "code",
   "execution_count": null,
   "metadata": {},
   "outputs": [],
   "source": [
    "# EVERYTHING BELOW IS NOT USEFUL, CANNOT INSTALL GIT-LFS ON WINDOWS, USE COLAB"
   ]
  },
  {
   "cell_type": "code",
   "execution_count": null,
   "metadata": {},
   "outputs": [],
   "source": [
    "from transformers import pipeline\n",
    "\n",
    "# Replace this with your own checkpoint\n",
    "model_checkpoint = \"brad1141/bert-finetuned-ner\"\n",
    "token_classifier = pipeline(\n",
    "    \"token-classification\", model=model_checkpoint, aggregation_strategy=\"simple\"\n",
    ")"
   ]
  },
  {
   "cell_type": "code",
   "execution_count": 48,
   "metadata": {},
   "outputs": [],
   "source": [
    "data = \"\"\n",
    "with open('test/0FB0700DAF44.txt', 'r') as file:\n",
    "    data = file.read().replace('\\n', '')"
   ]
  },
  {
   "cell_type": "code",
   "execution_count": 24,
   "metadata": {},
   "outputs": [
    {
     "name": "stdout",
     "output_type": "stream",
     "text": [
      "0 1 2\n"
     ]
    }
   ],
   "source": [
    "def calc_word_indices(full_text, discourse_start, discourse_end):\n",
    "    start_index = len(full_text[:discourse_start].split())\n",
    "    token_len = len(full_text[discourse_start:discourse_end].split())\n",
    "    output = list(range(start_index, start_index + token_len))\n",
    "    if output[-1] >= len(full_text.split()):\n",
    "        output = list(range(start_index, start_index + token_len-1))\n",
    "    return output\n",
    "\n",
    "outputt = calc_word_indices(data, 0, 13)\n",
    "outputt = \" \".join(str(x) for x in outputt)\n",
    "print(outputt)"
   ]
  },
  {
   "cell_type": "code",
   "execution_count": 29,
   "metadata": {},
   "outputs": [
    {
     "data": {
      "text/html": [
       "<div>\n",
       "<style scoped>\n",
       "    .dataframe tbody tr th:only-of-type {\n",
       "        vertical-align: middle;\n",
       "    }\n",
       "\n",
       "    .dataframe tbody tr th {\n",
       "        vertical-align: top;\n",
       "    }\n",
       "\n",
       "    .dataframe thead th {\n",
       "        text-align: right;\n",
       "    }\n",
       "</style>\n",
       "<table border=\"1\" class=\"dataframe\">\n",
       "  <thead>\n",
       "    <tr style=\"text-align: right;\">\n",
       "      <th></th>\n",
       "      <th>id</th>\n",
       "      <th>class</th>\n",
       "      <th>predictionstring</th>\n",
       "    </tr>\n",
       "  </thead>\n",
       "  <tbody>\n",
       "  </tbody>\n",
       "</table>\n",
       "</div>"
      ],
      "text/plain": [
       "Empty DataFrame\n",
       "Columns: [id, class, predictionstring]\n",
       "Index: []"
      ]
     },
     "execution_count": 29,
     "metadata": {},
     "output_type": "execute_result"
    }
   ],
   "source": [
    "dict = {'id':[],\n",
    "        'class': [],\n",
    "        'predictionstring':[]}\n",
    "sub_df = pd.DataFrame(dict)\n",
    "sub_df.head()\n"
   ]
  },
  {
   "cell_type": "code",
   "execution_count": 54,
   "metadata": {},
   "outputs": [
    {
     "data": {
      "text/plain": [
       "'0000D23A521A.txt'"
      ]
     },
     "execution_count": 54,
     "metadata": {},
     "output_type": "execute_result"
    }
   ],
   "source": [
    "fileNames = os.listdir('train')\n",
    "fileNames = fileNames[:10000]\n",
    "fileNames[0]"
   ]
  },
  {
   "cell_type": "code",
   "execution_count": 57,
   "metadata": {},
   "outputs": [],
   "source": [
    "def predict_and_format(fileName):\n",
    "    data = \"\"\n",
    "    with open('train/' + fileName, 'r') as file:\n",
    "        data = file.read().replace('\\n', '')\n",
    "    \n",
    "    predicts = token_classifier(data)\n",
    "\n",
    "    for p in predicts:\n",
    "        word_Indices_Array = calc_word_indices(data, p[\"start\"], p[\"end\"])\n",
    "        word_Indices_String = \" \".join(str(x) for x in word_Indices_Array)\n",
    "        word_class = p[\"entity_group\"]\n",
    "        word_id = fileName[:-4]\n",
    "        sub_df.loc[len(sub_df.index)] = [word_id, word_class, word_Indices_String]"
   ]
  },
  {
   "cell_type": "code",
   "execution_count": null,
   "metadata": {},
   "outputs": [],
   "source": [
    "for file in tqdm(fileNames):\n",
    "    predict_and_format(file)"
   ]
  },
  {
   "cell_type": "code",
   "execution_count": null,
   "metadata": {},
   "outputs": [],
   "source": [
    "sub_df"
   ]
  },
  {
   "cell_type": "code",
   "execution_count": 49,
   "metadata": {},
   "outputs": [],
   "source": [
    "sub_df.to_csv('submission.csv',index=False)"
   ]
  }
 ],
 "metadata": {
  "interpreter": {
   "hash": "c931ba401747e1100110d99c7b2e1195adf3961a7e00160e720e39c4d164b397"
  },
  "kernelspec": {
   "display_name": "Python 3.8.5 64-bit ('base': conda)",
   "language": "python",
   "name": "python3"
  },
  "language_info": {
   "codemirror_mode": {
    "name": "ipython",
    "version": 3
   },
   "file_extension": ".py",
   "mimetype": "text/x-python",
   "name": "python",
   "nbconvert_exporter": "python",
   "pygments_lexer": "ipython3",
   "version": "3.8.5"
  },
  "orig_nbformat": 4
 },
 "nbformat": 4,
 "nbformat_minor": 2
}
