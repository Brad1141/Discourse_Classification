{
 "cells": [
  {
   "cell_type": "code",
   "execution_count": 1,
   "metadata": {},
   "outputs": [
    {
     "name": "stderr",
     "output_type": "stream",
     "text": [
      "Downloading: 100%|██████████| 1.29k/1.29k [00:00<00:00, 660kB/s]\n",
      "Downloading: 100%|██████████| 565M/565M [04:11<00:00, 2.36MB/s] \n",
      "Downloading: 100%|██████████| 368/368 [00:00<00:00, 184kB/s]\n",
      "Downloading: 100%|██████████| 780k/780k [00:00<00:00, 1.88MB/s]\n",
      "Downloading: 100%|██████████| 446k/446k [00:00<00:00, 1.84MB/s]\n",
      "Downloading: 100%|██████████| 2.01M/2.01M [00:01<00:00, 1.81MB/s]\n",
      "Downloading: 100%|██████████| 239/239 [00:00<00:00, 79.8kB/s]\n"
     ]
    }
   ],
   "source": [
    "from transformers import pipeline\n",
    "\n",
    "# Replace this with your own checkpoint\n",
    "model_checkpoint = \"brad1141/bert-finetuned-ner\"\n",
    "token_classifier = pipeline(\n",
    "    \"token-classification\", model=model_checkpoint, aggregation_strategy=\"simple\"\n",
    ")"
   ]
  },
  {
   "cell_type": "code",
   "execution_count": 2,
   "metadata": {},
   "outputs": [],
   "source": [
    "token_classifier.save_pretrained(\"longformer_v1\")"
   ]
  },
  {
   "cell_type": "code",
   "execution_count": 3,
   "metadata": {},
   "outputs": [
    {
     "name": "stdout",
     "output_type": "stream",
     "text": [
      "{'entity_group': 'Lead', 'score': 0.99584526, 'word': ' My name is Sylvain and I work at Hugging Face in Brooklyn.', 'start': 0, 'end': 58}\n"
     ]
    }
   ],
   "source": [
    "#check if model works\n",
    "token_classifier = pipeline(task = 'token-classification', model='longformer_v1', tokenizer=\"longformer_v1\", aggregation_strategy=\"simple\")\n",
    "predicts = token_classifier(\"My name is Sylvain and I work at Hugging Face in Brooklyn.\")\n",
    "for p in predicts:\n",
    "    print(p)"
   ]
  },
  {
   "cell_type": "code",
   "execution_count": null,
   "metadata": {},
   "outputs": [],
   "source": []
  }
 ],
 "metadata": {
  "interpreter": {
   "hash": "c931ba401747e1100110d99c7b2e1195adf3961a7e00160e720e39c4d164b397"
  },
  "kernelspec": {
   "display_name": "Python 3.8.5 64-bit ('base': conda)",
   "language": "python",
   "name": "python3"
  },
  "language_info": {
   "codemirror_mode": {
    "name": "ipython",
    "version": 3
   },
   "file_extension": ".py",
   "mimetype": "text/x-python",
   "name": "python",
   "nbconvert_exporter": "python",
   "pygments_lexer": "ipython3",
   "version": "3.8.5"
  },
  "orig_nbformat": 4
 },
 "nbformat": 4,
 "nbformat_minor": 2
}
