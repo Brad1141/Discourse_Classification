{
 "cells": [
  {
   "cell_type": "code",
   "execution_count": 1,
   "metadata": {},
   "outputs": [
    {
     "name": "stderr",
     "output_type": "stream",
     "text": [
      "Downloading: 100%|██████████| 1.00k/1.00k [00:00<00:00, 1.02MB/s]\n",
      "Downloading: 100%|██████████| 411M/411M [02:16<00:00, 3.16MB/s] \n",
      "Downloading: 100%|██████████| 653k/653k [00:00<00:00, 1.71MB/s]\n"
     ]
    }
   ],
   "source": [
    "from transformers import pipeline\n",
    "\n",
    "# Replace this with your own checkpoint\n",
    "model_checkpoint = \"brad1141/bert-finetuned-ner\"\n",
    "token_classifier = pipeline(\n",
    "    \"token-classification\", model=model_checkpoint, aggregation_strategy=\"simple\"\n",
    ")"
   ]
  },
  {
   "cell_type": "code",
   "execution_count": 2,
   "metadata": {},
   "outputs": [],
   "source": [
    "token_classifier.save_pretrained(\"model2\")"
   ]
  },
  {
   "cell_type": "code",
   "execution_count": 3,
   "metadata": {},
   "outputs": [
    {
     "name": "stdout",
     "output_type": "stream",
     "text": [
      "{'entity_group': 'Evidence', 'score': 0.7760178, 'word': 'My name is Sylvain and I work at Hugging Face in Brooklyn.', 'start': 0, 'end': 58}\n"
     ]
    }
   ],
   "source": [
    "#check if model works\n",
    "token_classifier = pipeline(task = 'token-classification', model='model2', tokenizer=\"model2\", aggregation_strategy=\"simple\")\n",
    "predicts = token_classifier(\"My name is Sylvain and I work at Hugging Face in Brooklyn.\")\n",
    "for p in predicts:\n",
    "    print(p)"
   ]
  },
  {
   "cell_type": "code",
   "execution_count": null,
   "metadata": {},
   "outputs": [],
   "source": []
  }
 ],
 "metadata": {
  "interpreter": {
   "hash": "c931ba401747e1100110d99c7b2e1195adf3961a7e00160e720e39c4d164b397"
  },
  "kernelspec": {
   "display_name": "Python 3.8.5 64-bit ('base': conda)",
   "language": "python",
   "name": "python3"
  },
  "language_info": {
   "codemirror_mode": {
    "name": "ipython",
    "version": 3
   },
   "file_extension": ".py",
   "mimetype": "text/x-python",
   "name": "python",
   "nbconvert_exporter": "python",
   "pygments_lexer": "ipython3",
   "version": "3.8.5"
  },
  "orig_nbformat": 4
 },
 "nbformat": 4,
 "nbformat_minor": 2
}
